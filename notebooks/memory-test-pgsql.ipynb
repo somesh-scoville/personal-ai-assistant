{
 "cells": [
  {
   "cell_type": "code",
   "execution_count": 1,
   "id": "d16e2a28",
   "metadata": {},
   "outputs": [],
   "source": [
    "from enum import StrEnum\n",
    "from pydantic import SecretStr"
   ]
  },
  {
   "cell_type": "code",
   "execution_count": null,
   "id": "146e282e",
   "metadata": {},
   "outputs": [],
   "source": [
    "# PostgreSQL Configuration\n",
    "POSTGRES_USER = \"postgres\"\n",
    "POSTGRES_PASSWORD = \"test\"\n",
    "POSTGRES_HOST = \"localhost\"\n",
    "POSTGRES_PORT = 5432\n",
    "POSTGRES_DB = \"postgres\"\n",
    "POSTGRES_APPLICATION_NAME = \"personal-ai-assistant\"\n",
    "POSTGRES_MIN_CONNECTIONS_PER_POOL = 1\n",
    "POSTGRES_MAX_CONNECTIONS_PER_POOL = 1"
   ]
  },
  {
   "cell_type": "code",
   "execution_count": 5,
   "id": "2f94c029",
   "metadata": {},
   "outputs": [],
   "source": [
    "from agents.personal_assistant import create_agent_graph"
   ]
  },
  {
   "cell_type": "code",
   "execution_count": 7,
   "id": "49621c97",
   "metadata": {},
   "outputs": [],
   "source": [
    "# from langgraph.checkpoint.postgres.aio import AsyncPostgresSaver\n",
    "# from langgraph.store.postgres.aio import AsyncPostgresStore\n",
    "\n",
    "# from config.settings import settings\n",
    "\n",
    "\n",
    "# def get_postgres_saver():\n",
    "#     db_name = f\"{POSTGRES_DB}\"\n",
    "\n",
    "#     db_url = \"postgresql://{user}:{password}@{host}:{port}/{db_name}?sslmode=disable\".format(\n",
    "#         user=POSTGRES_USER,\n",
    "#         password=POSTGRES_PASSWORD,\n",
    "#         host=POSTGRES_HOST,\n",
    "#         port=POSTGRES_PORT,\n",
    "#         db_name=db_name,\n",
    "#     )\n",
    "\n",
    "#     print(db_url)\n",
    "\n",
    "#     return AsyncPostgresSaver.from_conn_string(db_url)\n",
    "\n",
    "\n",
    "# def get_postgres_store():\n",
    "#     db_name = f\"{POSTGRES_DB}\"\n",
    "\n",
    "#     db_url = \"postgresql://{user}:{password}@{host}:{port}/{db_name}?sslmode=disable\".format(\n",
    "#         user=POSTGRES_USER,\n",
    "#         password=POSTGRES_PASSWORD,\n",
    "#         host=POSTGRES_HOST,\n",
    "#         port=POSTGRES_PORT,\n",
    "#         db_name=db_name,\n",
    "#     )\n",
    "\n",
    "#     return AsyncPostgresStore.from_conn_string(db_url)\n"
   ]
  },
  {
   "cell_type": "code",
   "execution_count": 8,
   "id": "dabe6878",
   "metadata": {},
   "outputs": [],
   "source": [
    "# get_postgres_saver()"
   ]
  },
  {
   "cell_type": "code",
   "execution_count": null,
   "id": "87b20ccc",
   "metadata": {},
   "outputs": [],
   "source": [
    "# from langchain_core.messages import HumanMessage"
   ]
  },
  {
   "cell_type": "code",
   "execution_count": 10,
   "id": "ccf1fe96",
   "metadata": {},
   "outputs": [],
   "source": [
    "# async def generate_response_with_memory(input_message):\n",
    "#     async with get_postgres_saver() as checkpointer:\n",
    "#         async with get_postgres_store() as store:\n",
    "#             agent = create_agent_graph(checkpointer=checkpointer, store=store)\n",
    "\n",
    "#             config = {\"configurable\": {\"thread_id\": \"1\", \"user_id\": \"4321\"}}\n",
    "#             output_state = await agent.ainvoke(input={\"messages\": input_message}, config=config)\n",
    "\n",
    "#         last_message = output_state[\"messages\"][-1]\n",
    "#         return last_message"
   ]
  },
  {
   "cell_type": "code",
   "execution_count": 11,
   "id": "3599c8be",
   "metadata": {},
   "outputs": [],
   "source": [
    "# input_message = HumanMessage(content=\"Hello, My name is Harshad. I am a software engineer.\")"
   ]
  },
  {
   "cell_type": "code",
   "execution_count": 12,
   "id": "e2856790",
   "metadata": {},
   "outputs": [],
   "source": [
    "import asyncio\n",
    "import nest_asyncio\n",
    "\n",
    "nest_asyncio.apply()"
   ]
  },
  {
   "cell_type": "code",
   "execution_count": 13,
   "id": "8c4efc4f",
   "metadata": {},
   "outputs": [
    {
     "ename": "NameError",
     "evalue": "name 'generate_response_with_memory' is not defined",
     "output_type": "error",
     "traceback": [
      "\u001b[0;31m---------------------------------------------------------------------------\u001b[0m",
      "\u001b[0;31mNameError\u001b[0m                                 Traceback (most recent call last)",
      "Cell \u001b[0;32mIn[13], line 2\u001b[0m\n\u001b[1;32m      1\u001b[0m \u001b[38;5;66;03m# Call the function using asyncio.run()\u001b[39;00m\n\u001b[0;32m----> 2\u001b[0m response \u001b[38;5;241m=\u001b[39m asyncio\u001b[38;5;241m.\u001b[39mrun(\u001b[43mgenerate_response_with_memory\u001b[49m(input_message\u001b[38;5;241m=\u001b[39minput_message))\n\u001b[1;32m      3\u001b[0m \u001b[38;5;28mprint\u001b[39m(response)\n",
      "\u001b[0;31mNameError\u001b[0m: name 'generate_response_with_memory' is not defined"
     ]
    }
   ],
   "source": [
    "# Call the function using asyncio.run()\n",
    "response = asyncio.run(generate_response_with_memory(input_message=input_message))\n",
    "print(response)"
   ]
  },
  {
   "cell_type": "code",
   "execution_count": null,
   "id": "1b92ff44",
   "metadata": {},
   "outputs": [],
   "source": []
  },
  {
   "cell_type": "code",
   "execution_count": null,
   "id": "4a352ea7",
   "metadata": {},
   "outputs": [],
   "source": [
    "input_message = HumanMessage(\n",
    "    content=\"I want to complete the the long term memory test by today EOD. It will take 20 mins max'.\"\n",
    ")"
   ]
  },
  {
   "cell_type": "code",
   "execution_count": null,
   "id": "0507831c",
   "metadata": {},
   "outputs": [],
   "source": [
    "generate_response_with_memory(input_message=input_message)"
   ]
  },
  {
   "cell_type": "code",
   "execution_count": null,
   "id": "fcdd32e9",
   "metadata": {},
   "outputs": [],
   "source": []
  }
 ],
 "metadata": {
  "kernelspec": {
   "display_name": "archon",
   "language": "python",
   "name": "python3"
  },
  "language_info": {
   "codemirror_mode": {
    "name": "ipython",
    "version": 3
   },
   "file_extension": ".py",
   "mimetype": "text/x-python",
   "name": "python",
   "nbconvert_exporter": "python",
   "pygments_lexer": "ipython3",
   "version": "3.11.11"
  }
 },
 "nbformat": 4,
 "nbformat_minor": 5
}
