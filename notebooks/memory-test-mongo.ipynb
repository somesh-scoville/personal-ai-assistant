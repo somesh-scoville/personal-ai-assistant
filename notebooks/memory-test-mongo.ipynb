{
 "cells": [
  {
   "cell_type": "code",
   "execution_count": 1,
   "id": "8ee320f6",
   "metadata": {},
   "outputs": [],
   "source": [
    "MONGO_DB_NAME = \"personal_ai_assistant_1\"\n",
    "MONGO_URI = \"mongodb://localhost:27017\"\n",
    "MONGO_STATE_CHECKPOINT_COLLECTION = \"state_checkpoints\"\n",
    "MONGO_STATE_WRITES_COLLECTION = \"state_writes\""
   ]
  },
  {
   "cell_type": "code",
   "execution_count": 2,
   "id": "87b20ccc",
   "metadata": {},
   "outputs": [],
   "source": [
    "from langchain_core.messages import HumanMessage\n",
    "from langgraph.store.mongodb import MongoDBStore\n",
    "from langgraph.checkpoint.mongodb import MongoDBSaver"
   ]
  },
  {
   "cell_type": "code",
   "execution_count": 4,
   "id": "02e7cd6c",
   "metadata": {},
   "outputs": [],
   "source": [
    "from agents.personal_assistant import create_agent_graph"
   ]
  },
  {
   "cell_type": "code",
   "execution_count": 5,
   "id": "ccf1fe96",
   "metadata": {},
   "outputs": [],
   "source": [
    "def generate_response_with_memory(input_message):\n",
    "    with MongoDBSaver.from_conn_string(\n",
    "        conn_string=MONGO_URI,\n",
    "        db_name=MONGO_DB_NAME,\n",
    "        checkpoint_collection_name=MONGO_STATE_CHECKPOINT_COLLECTION,\n",
    "        writes_collection_name=MONGO_STATE_WRITES_COLLECTION,\n",
    "    ) as checkpointer:\n",
    "        with MongoDBStore.from_conn_string(\n",
    "            conn_string=MONGO_URI, db_name=MONGO_DB_NAME, collection_name=\"memory-store\"\n",
    "        ) as store:\n",
    "            graph = builder.compile(checkpointer=checkpointer, store=store)\n",
    "\n",
    "            config = {\"configurable\": {\"thread_id\": \"1\", \"user_id\": \"4321\"}}\n",
    "            output_state = graph.invoke(input={\"messages\": input_message}, config=config)\n",
    "\n",
    "        last_message = output_state[\"messages\"][-1]\n",
    "        return last_message"
   ]
  },
  {
   "cell_type": "code",
   "execution_count": 6,
   "id": "3599c8be",
   "metadata": {},
   "outputs": [],
   "source": [
    "input_message = HumanMessage(content=\"Hello, My name is Harshad. I am a software engineer.\")"
   ]
  },
  {
   "cell_type": "code",
   "execution_count": 7,
   "id": "1b92ff44",
   "metadata": {},
   "outputs": [
    {
     "ename": "NameError",
     "evalue": "name 'builder' is not defined",
     "output_type": "error",
     "traceback": [
      "\u001b[0;31m---------------------------------------------------------------------------\u001b[0m",
      "\u001b[0;31mNameError\u001b[0m                                 Traceback (most recent call last)",
      "Cell \u001b[0;32mIn[7], line 1\u001b[0m\n\u001b[0;32m----> 1\u001b[0m \u001b[43mgenerate_response_with_memory\u001b[49m\u001b[43m(\u001b[49m\u001b[43minput_message\u001b[49m\u001b[38;5;241;43m=\u001b[39;49m\u001b[43minput_message\u001b[49m\u001b[43m)\u001b[49m\n",
      "Cell \u001b[0;32mIn[5], line 11\u001b[0m, in \u001b[0;36mgenerate_response_with_memory\u001b[0;34m(input_message)\u001b[0m\n\u001b[1;32m      2\u001b[0m \u001b[38;5;28;01mwith\u001b[39;00m MongoDBSaver\u001b[38;5;241m.\u001b[39mfrom_conn_string(\n\u001b[1;32m      3\u001b[0m     conn_string\u001b[38;5;241m=\u001b[39mMONGO_URI,\n\u001b[1;32m      4\u001b[0m     db_name\u001b[38;5;241m=\u001b[39mMONGO_DB_NAME,\n\u001b[1;32m      5\u001b[0m     checkpoint_collection_name\u001b[38;5;241m=\u001b[39mMONGO_STATE_CHECKPOINT_COLLECTION,\n\u001b[1;32m      6\u001b[0m     writes_collection_name\u001b[38;5;241m=\u001b[39mMONGO_STATE_WRITES_COLLECTION,\n\u001b[1;32m      7\u001b[0m ) \u001b[38;5;28;01mas\u001b[39;00m checkpointer:\n\u001b[1;32m      8\u001b[0m     \u001b[38;5;28;01mwith\u001b[39;00m MongoDBStore\u001b[38;5;241m.\u001b[39mfrom_conn_string(\n\u001b[1;32m      9\u001b[0m         conn_string\u001b[38;5;241m=\u001b[39mMONGO_URI, db_name\u001b[38;5;241m=\u001b[39mMONGO_DB_NAME, collection_name\u001b[38;5;241m=\u001b[39m\u001b[38;5;124m\"\u001b[39m\u001b[38;5;124mmemory-store\u001b[39m\u001b[38;5;124m\"\u001b[39m\n\u001b[1;32m     10\u001b[0m     ) \u001b[38;5;28;01mas\u001b[39;00m store:\n\u001b[0;32m---> 11\u001b[0m         graph \u001b[38;5;241m=\u001b[39m \u001b[43mbuilder\u001b[49m\u001b[38;5;241m.\u001b[39mcompile(checkpointer\u001b[38;5;241m=\u001b[39mcheckpointer, store\u001b[38;5;241m=\u001b[39mstore)\n\u001b[1;32m     13\u001b[0m         config \u001b[38;5;241m=\u001b[39m {\u001b[38;5;124m\"\u001b[39m\u001b[38;5;124mconfigurable\u001b[39m\u001b[38;5;124m\"\u001b[39m: {\u001b[38;5;124m\"\u001b[39m\u001b[38;5;124mthread_id\u001b[39m\u001b[38;5;124m\"\u001b[39m: \u001b[38;5;124m\"\u001b[39m\u001b[38;5;124m1\u001b[39m\u001b[38;5;124m\"\u001b[39m, \u001b[38;5;124m\"\u001b[39m\u001b[38;5;124muser_id\u001b[39m\u001b[38;5;124m\"\u001b[39m: \u001b[38;5;124m\"\u001b[39m\u001b[38;5;124m4321\u001b[39m\u001b[38;5;124m\"\u001b[39m}}\n\u001b[1;32m     14\u001b[0m         output_state \u001b[38;5;241m=\u001b[39m graph\u001b[38;5;241m.\u001b[39minvoke(\u001b[38;5;28minput\u001b[39m\u001b[38;5;241m=\u001b[39m{\u001b[38;5;124m\"\u001b[39m\u001b[38;5;124mmessages\u001b[39m\u001b[38;5;124m\"\u001b[39m: input_message}, config\u001b[38;5;241m=\u001b[39mconfig)\n",
      "\u001b[0;31mNameError\u001b[0m: name 'builder' is not defined"
     ]
    }
   ],
   "source": [
    "generate_response_with_memory(input_message=input_message)"
   ]
  },
  {
   "cell_type": "code",
   "execution_count": null,
   "id": "4a352ea7",
   "metadata": {},
   "outputs": [],
   "source": [
    "input_message = HumanMessage(\n",
    "    content=\"I want to complete the the long term memory test by today EOD. It will take 20 mins max'.\"\n",
    ")"
   ]
  },
  {
   "cell_type": "code",
   "execution_count": 12,
   "id": "0507831c",
   "metadata": {},
   "outputs": [
    {
     "data": {
      "text/plain": [
       "AIMessage(content=\"I've updated your ToDo list. You want to complete the long term memory test by today EOD and it should take around 20 minutes. Is there anything else you'd like to add to your ToDo list or any other way I can help you?\", additional_kwargs={}, response_metadata={'token_usage': {'completion_tokens': 52, 'prompt_tokens': 839, 'total_tokens': 891, 'completion_time': 0.177006249, 'prompt_time': 0.068939246, 'queue_time': 0.048939944, 'total_time': 0.245945495}, 'model_name': 'llama-3.3-70b-versatile', 'system_fingerprint': 'fp_6507bcfb6f', 'service_tier': 'on_demand', 'finish_reason': 'stop', 'logprobs': None}, id='run--73f5e925-74ba-49aa-b457-82768014c442-0', usage_metadata={'input_tokens': 839, 'output_tokens': 52, 'total_tokens': 891})"
      ]
     },
     "execution_count": 12,
     "metadata": {},
     "output_type": "execute_result"
    }
   ],
   "source": [
    "generate_response_with_memory(input_message=input_message)"
   ]
  }
 ],
 "metadata": {
  "kernelspec": {
   "display_name": "archon",
   "language": "python",
   "name": "python3"
  },
  "language_info": {
   "codemirror_mode": {
    "name": "ipython",
    "version": 3
   },
   "file_extension": ".py",
   "mimetype": "text/x-python",
   "name": "python",
   "nbconvert_exporter": "python",
   "pygments_lexer": "ipython3",
   "version": "3.11.11"
  }
 },
 "nbformat": 4,
 "nbformat_minor": 5
}
